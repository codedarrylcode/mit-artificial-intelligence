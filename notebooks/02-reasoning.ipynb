{
 "cells": [
  {
   "cell_type": "markdown",
   "metadata": {},
   "source": [
    "# Reasoning\n",
    "*Goal Trees, Problem Solving and Rule-Based Expert Systems*\n",
    "\n",
    "<hr>"
   ]
  },
  {
   "cell_type": "markdown",
   "metadata": {},
   "source": [
    "## Goal Trees\n",
    "\n",
    "**Problem Reduction Tree**\n",
    "\n",
    "```console\n",
    "o Given Problem\n",
    "|\n",
    "V\n",
    "o Simpler problem\n",
    "```\n",
    "\n",
    "For example, taking an integral of a complex function and using transformations to simplify a problem before solving it.\n",
    "\n",
    "****\n",
    "\n",
    "**Goal Trees**\n",
    "\n",
    "```console\n",
    "    o Given Problem\n",
    "    |\n",
    "    V\n",
    "    o Simpler problem\n",
    "  / | \\\n",
    " v  v  v # OR node\n",
    "# multiple ways to simplify problem\n",
    "```\n",
    "\n",
    "One way to evaluate multiple ways to solve the problem is to find out *how easy it is* to deploy each method. In the example of the integral, we would typically evaluate the functional depth of the integral in solving it. The less depth, the simpler (hence *easier*) and therefore pick that solution.\n",
    "\n",
    "This suggests that knowledge about solving a problem (*ways to solve*) is necessary but knowledge about knowledge is just as important too.\n",
    "\n",
    "> A program solves a difficult problem and it seems intelligent, until people understand the workings behind simplifying and solving the problem and therefore diminishes its *intelligence*. What's intelligent about a program is the ability to represent human knowledge and problem-solving skills\n",
    "\n",
    "****\n",
    "\n",
    "## Rule-Based Expert Systems\n",
    "\n",
    "One way to identify an animal with descriptive behaviours is to  build a set of experts rules that tells us more about the animal.\n",
    "\n",
    "```console\n",
    "# Forward thinking rule-based \"expert\" system\n",
    "\n",
    "Has hair --> o # R1 -----------------  \n",
    "                                     \\\n",
    "Has claws ---------------> o # R2 --> o # R4 ---> Cheetah \n",
    "Has sharp teeth -------- /                       /\n",
    "Forward pointing eye --- /                      /\n",
    "                                               /\n",
    "Eats meat ---------------> o # R3             / \n",
    "Has spots ------------------------------------\n",
    "Very fast ---------------------------------- /\n",
    "\n",
    "# R1: Mammal\n",
    "# R2, R3: Carnivore\n",
    "# R4: Cheetah\n",
    "```\n",
    "\n",
    "Another way is to approach this problem backwards and ask questions that immediately spots a Cheetah, i.e. *If this thing is a cheetah then it must have spots and is very fast*. This requires much less information and therefore less rules.\n",
    "\n",
    "****"
   ]
  },
  {
   "cell_type": "markdown",
   "metadata": {},
   "source": [
    "# Basic code\n",
    "A `minimal, reproducible example`"
   ]
  },
  {
   "cell_type": "code",
   "execution_count": null,
   "metadata": {},
   "outputs": [],
   "source": []
  }
 ],
 "metadata": {
  "kernelspec": {
   "display_name": "Python 3 (ipykernel)",
   "language": "python",
   "name": "python3"
  },
  "language_info": {
   "codemirror_mode": {
    "name": "ipython",
    "version": 3
   },
   "file_extension": ".py",
   "mimetype": "text/x-python",
   "name": "python",
   "nbconvert_exporter": "python",
   "pygments_lexer": "ipython3",
   "version": "3.9.7"
  },
  "toc": {
   "base_numbering": 1,
   "nav_menu": {},
   "number_sections": true,
   "sideBar": true,
   "skip_h1_title": false,
   "title_cell": "Table of Contents",
   "title_sidebar": "Contents",
   "toc_cell": false,
   "toc_position": {},
   "toc_section_display": true,
   "toc_window_display": false
  }
 },
 "nbformat": 4,
 "nbformat_minor": 2
}
