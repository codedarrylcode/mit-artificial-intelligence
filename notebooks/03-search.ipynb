{
 "cells": [
  {
   "cell_type": "markdown",
   "metadata": {},
   "source": [
    "# Search\n",
    "*Depth-first, Climbing, Beam*\n",
    "<hr>"
   ]
  },
  {
   "cell_type": "markdown",
   "metadata": {},
   "source": [
    "## Finding paths\n",
    "\n",
    "Given a route problem, what are the ways to find a route starting from point S to any given point?\n",
    "\n",
    "```console\n",
    "# A map that has been transformed into a tree\n",
    "\n",
    "     S\n",
    "   /   \\\n",
    "  A     B\n",
    " / \\   / \\\n",
    " B  D  A  C\n",
    " |  |  |  |\n",
    " C  G  D  E\n",
    " |     |\n",
    " E     G\n",
    "```\n",
    "\n",
    "One way to search is to check all possible routes, one by one, and find an optimal solution. This is called the **British Museum** algorithm but is not a practical technique where the number of possibilities is infinitely large.\n",
    "\n",
    "Below, we explore alternative ways that are computationally less intensive and still arrives at solution.\n",
    "\n",
    "****\n",
    "\n",
    "**Depth-First (DF) vs Breadth-First (BF)**\n",
    "\n",
    "In DF, by convention, the algorithm goes down the left-most branch and checks if it arrives at the intended destination. If it is then the program ends, else it backtracks to a point where there was at least two routes available.\n",
    "\n",
    "In BF, it checks if it arrives at the destination level-by-level. If it has arrived then the program stops, else it goes one-level lower and checks again and iterates.\n",
    "\n",
    "<img alt=\"Depth-first vs Breadth-first\" src=\"assets/depth_breadth_first.png\" width=\"500\">\n",
    "\n",
    "In general, DF does the following:\n",
    "\n",
    "```console\n",
    "                                 --> Checks if it's happy\n",
    "                                /\n",
    "Initialize queue -> Extend path -> Continues extending --\n",
    "                 /                                       \\\n",
    "                |                                         |\n",
    "                 \\                                       /\n",
    "                   --------------------------------------\n",
    "```\n",
    "\n",
    "The path typically gets extended even though it's been extended, checked and has been terminated before. We can add a modification to exclude such paths to improve DF in an **enqueued list** where it is a list of possible routes for a DF search.\n",
    "\n",
    "****\n",
    "\n",
    "**Hill-climbing (Greedy approach)**\n",
    "\n",
    "Hill climbing algorithm is a local search algorithm that is a complement to the DF search by continuously moving in the direction that is closer to the goal to get to the destination. In the example, going down A with DF search will result in a longer path than B with DF to get to destination G.\n",
    "\n",
    "In a continuous space, analogous to a hill-climbing situation, we take the local maxima/minima in a greedy fashion.\n",
    "\n",
    "****\n",
    "\n",
    "**Beam**\n",
    "\n",
    "A complement to breadth-first search by only keeping a predetermined number of best partial solutions at each level. In the example, we will keep A/B at the first step and then evaluate BDAC at the second step and keep X number of partial solutions that will get to G.\n",
    "\n",
    "****\n",
    "\n",
    "**Comparison of methods**\n",
    "\n",
    "| Search Maps    | Backtracking | Use Enqueud List | Informed |\n",
    "| :----------    | :----------: | :--------------: | :------: |\n",
    "| British Museum | &cross;      | &cross;          | &cross; |\n",
    "| Depth-first    | &check;      | &check;          | &cross; |\n",
    "| Breadth-first  | &cross;      | &check;          | &cross; |\n",
    "| Hill-climbing  | &cross;      | &check;          | &check; |\n",
    "| Beam           | &cross;      | &check;          | &cross; |\n",
    "\n",
    "****"
   ]
  },
  {
   "cell_type": "markdown",
   "metadata": {},
   "source": [
    "# Basic code\n",
    "A `minimal, reproducible example`"
   ]
  },
  {
   "cell_type": "code",
   "execution_count": null,
   "metadata": {},
   "outputs": [],
   "source": []
  }
 ],
 "metadata": {
  "kernelspec": {
   "display_name": "Python 3 (ipykernel)",
   "language": "python",
   "name": "python3"
  },
  "language_info": {
   "codemirror_mode": {
    "name": "ipython",
    "version": 3
   },
   "file_extension": ".py",
   "mimetype": "text/x-python",
   "name": "python",
   "nbconvert_exporter": "python",
   "pygments_lexer": "ipython3",
   "version": "3.9.7"
  },
  "toc": {
   "base_numbering": 1,
   "nav_menu": {},
   "number_sections": true,
   "sideBar": true,
   "skip_h1_title": false,
   "title_cell": "Table of Contents",
   "title_sidebar": "Contents",
   "toc_cell": false,
   "toc_position": {},
   "toc_section_display": true,
   "toc_window_display": false
  }
 },
 "nbformat": 4,
 "nbformat_minor": 2
}
