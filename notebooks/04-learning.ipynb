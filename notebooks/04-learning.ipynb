{
 "cells": [
  {
   "cell_type": "markdown",
   "metadata": {},
   "source": [
    "# Learning\n",
    "\n",
    "<hr>"
   ]
  },
  {
   "cell_type": "markdown",
   "metadata": {},
   "source": [
    "## Intro\n",
    "\n",
    "Generally, learning are based on two types:\n",
    "\n",
    "1. **Regularity**: *things that have structure and repeatability*\n",
    "    - Nearest neighbours (*pattern recognition*)\n",
    "    - Neural nets (*mimic biology*)\n",
    "    - Boosting (*theoretical improvement*)\n",
    "    \n",
    "    \n",
    "2. **Constraints**: *human-like*\n",
    "    - One-shot learning\n",
    "    - Explanation-based learning\n",
    "\n",
    "\n",
    "****\n",
    "\n",
    "## Regularity\n",
    "\n",
    "**Nearest Neighbours**\n",
    "\n",
    "\n",
    "\n",
    "****\n",
    "\n",
    "**Neural Nets**\n",
    "\n",
    "****\n",
    "\n",
    "**Boosting**\n",
    "\n",
    "****\n",
    "\n",
    "## Topic 2\n",
    "\n",
    "<img alt=\"This is some image\" src=\"assets/some_image.png\" width=\"400\">\n",
    "\n",
    "| This | is | some | table |\n",
    "| :--- | :- | :--- | :---- |\n",
    "| 1    | 2  | 3    | bunny |\n",
    "\n",
    "****"
   ]
  },
  {
   "cell_type": "markdown",
   "metadata": {},
   "source": [
    "# Basic code\n",
    "A `minimal, reproducible example`"
   ]
  },
  {
   "cell_type": "code",
   "execution_count": null,
   "metadata": {},
   "outputs": [],
   "source": []
  }
 ],
 "metadata": {
  "kernelspec": {
   "display_name": "Python 3 (ipykernel)",
   "language": "python",
   "name": "python3"
  },
  "language_info": {
   "codemirror_mode": {
    "name": "ipython",
    "version": 3
   },
   "file_extension": ".py",
   "mimetype": "text/x-python",
   "name": "python",
   "nbconvert_exporter": "python",
   "pygments_lexer": "ipython3",
   "version": "3.9.7"
  },
  "toc": {
   "base_numbering": 1,
   "nav_menu": {},
   "number_sections": true,
   "sideBar": true,
   "skip_h1_title": false,
   "title_cell": "Table of Contents",
   "title_sidebar": "Contents",
   "toc_cell": false,
   "toc_position": {},
   "toc_section_display": true,
   "toc_window_display": false
  }
 },
 "nbformat": 4,
 "nbformat_minor": 2
}
